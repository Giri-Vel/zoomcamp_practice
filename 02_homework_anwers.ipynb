{
 "cells": [
  {
   "cell_type": "markdown",
   "id": "53d77288",
   "metadata": {},
   "source": [
    "# 02 Mlflow homework"
   ]
  },
  {
   "cell_type": "code",
   "execution_count": 1,
   "id": "b1f20f0b",
   "metadata": {},
   "outputs": [
    {
     "name": "stdout",
     "output_type": "stream",
     "text": [
      "Pandas version: 2.2.3\n",
      "NumPy version: 2.2.6\n"
     ]
    }
   ],
   "source": [
    "import pandas as pd\n",
    "import numpy as np\n",
    "print(\"Pandas version:\", pd.__version__)\n",
    "print(\"NumPy version:\", np.__version__)"
   ]
  },
  {
   "cell_type": "markdown",
   "id": "05aa1f69",
   "metadata": {},
   "source": [
    "## question 1 - to get the mlflow version"
   ]
  },
  {
   "cell_type": "code",
   "execution_count": 2,
   "id": "d61c36b1",
   "metadata": {},
   "outputs": [
    {
     "name": "stdout",
     "output_type": "stream",
     "text": [
      "MLflow version: 2.22.0\n"
     ]
    }
   ],
   "source": [
    "import mlflow\n",
    "\n",
    "print(\"MLflow version:\", mlflow.__version__)"
   ]
  },
  {
   "cell_type": "markdown",
   "id": "c6ab626f",
   "metadata": {},
   "source": [
    "## question 2 - Download and preprocess the data"
   ]
  },
  {
   "cell_type": "code",
   "execution_count": null,
   "id": "40c379e3",
   "metadata": {},
   "outputs": [],
   "source": [
    "# i have downloaded the data into my project folder\n",
    "# now i will run the cammand stated from the github repo --> preprocess_data.py\n",
    "\n",
    "# !python \"./src/preprocess_data.py\" --raw_data_path \"./\" --dest_path \"./output\""
   ]
  },
  {
   "cell_type": "code",
   "execution_count": 9,
   "id": "d37c5a0f",
   "metadata": {},
   "outputs": [
    {
     "name": "stdout",
     "output_type": "stream",
     "text": [
      "Number of files in './output': 4\n",
      "Files:\n",
      "dv.pkl\n",
      "test.pkl\n",
      "train.pkl\n",
      "val.pkl\n"
     ]
    }
   ],
   "source": [
    "# to count the number of files in the output folder and display the file names \n",
    "import os\n",
    "\n",
    "files = os.listdir(\"./output\")\n",
    "    \n",
    "# Count the number of files\n",
    "file_count = len(files)\n",
    "    \n",
    "# Print the file names and count\n",
    "print(f\"Number of files in '{\"./output\"}': {file_count}\")\n",
    "print(\"Files:\")\n",
    "for file in files:    \n",
    "    print(file)"
   ]
  },
  {
   "cell_type": "markdown",
   "id": "e9548dc2",
   "metadata": {},
   "source": [
    "## question 3 - Train a model with autolog"
   ]
  },
  {
   "cell_type": "code",
   "execution_count": null,
   "id": "6a64f8b5",
   "metadata": {},
   "outputs": [],
   "source": [
    "# now i will run the command stated from the github repo --> train.py\n",
    "\n",
    "#!python \"./src/train.py\" --data_path \"./output\""
   ]
  },
  {
   "cell_type": "code",
   "execution_count": 19,
   "id": "bd610d28",
   "metadata": {},
   "outputs": [],
   "source": [
    "# get the min_samples_split and min_samples_leaf from the mlflow tracking server of the latest run\n",
    "\n",
    "import mlflow\n",
    "\n",
    "# Get the latest run based on start time\n",
    "latest_run_df = mlflow.search_runs(order_by=[\"start_time desc\"]).iloc[0]\n"
   ]
  },
  {
   "cell_type": "code",
   "execution_count": 20,
   "id": "0936b1a1",
   "metadata": {},
   "outputs": [
    {
     "name": "stdout",
     "output_type": "stream",
     "text": [
      "Latest min_samples_split: 2\n"
     ]
    }
   ],
   "source": [
    "# Get the run_id of the latest run\n",
    "run_id = latest_run_df['run_id']\n",
    "\n",
    "# Get the run details using the run_id\n",
    "run = mlflow.get_run(run_id)\n",
    "\n",
    "# Access the parameters from the run's data\n",
    "min_samples_split = run.data.params.get('min_samples_split', None)\n",
    "\n",
    "if min_samples_split:\n",
    "    print(f\"Latest min_samples_split: {min_samples_split}\")\n",
    "else:\n",
    "    print(\"min_samples_split was not logged in the latest run.\")"
   ]
  },
  {
   "cell_type": "markdown",
   "id": "85bfc518",
   "metadata": {},
   "source": [
    "## question 4 Launch the tracking server locally\n",
    "\n",
    "this is done separately and the answer to this question is \"--default-artifact-root\" and mine is \"./artifacts\""
   ]
  },
  {
   "cell_type": "code",
   "execution_count": null,
   "id": "7d411677",
   "metadata": {},
   "outputs": [
    {
     "name": "stderr",
     "output_type": "stream",
     "text": [
      "Successfully registered model 'random-forest-model'.\n",
      "Created version '1' of model 'random-forest-model'.\n"
     ]
    },
    {
     "data": {
      "text/plain": [
       "<ModelVersion: aliases=[], creation_timestamp=1747828620939, current_stage='None', description=None, last_updated_timestamp=1747828620939, name='random-forest-model', run_id='0e8119c8680246b0a0a06c93ab7c3c32', run_link=None, source='file:///d:/MLOPS%20learning/mlops_zoomcamp/zoomcamp_practice/mlruns/0/0e8119c8680246b0a0a06c93ab7c3c32/artifacts/model', status='READY', status_message=None, tags={}, user_id=None, version=1>"
      ]
     },
     "execution_count": 22,
     "metadata": {},
     "output_type": "execute_result"
    }
   ],
   "source": [
    "# # Get the latest run based on start time\n",
    "# latest_run_df = mlflow.search_runs(order_by=[\"start_time desc\"]).iloc[0]\n",
    "\n",
    "# # Get the run_id of the latest run\n",
    "# run_id = latest_run_df['run_id']\n",
    "\n",
    "# # Get the run_id of the active run\n",
    "# # run_id = mlflow.active_run().info.run_id\n",
    "\n",
    "# # Get the URI of the logged model\n",
    "# model_uri = f\"runs:/{run_id}/model\"\n",
    "\n",
    "# # Register the model\n",
    "# mlflow.register_model(model_uri, \"random-forest-model\")\n"
   ]
  },
  {
   "cell_type": "markdown",
   "id": "dd2116f9",
   "metadata": {},
   "source": [
    "## question 5 - Tune model hyperparameters\n"
   ]
  },
  {
   "cell_type": "code",
   "execution_count": null,
   "id": "2e834f23",
   "metadata": {},
   "outputs": [
    {
     "name": "stdout",
     "output_type": "stream",
     "text": [
      "\n",
      "  0%|          | 0/15 [00:00<?, ?trial/s, best loss=?]\n",
      "                                                      \n",
      "🏃 View run enchanting-mare-962 at: http://127.0.0.1:5000/#/experiments/164548606967977100/runs/e77108e4b9cb4d67bde6346adc6c5b2a\n",
      "\n",
      "\n",
      "  0%|          | 0/15 [00:16<?, ?trial/s, best loss=?]\n",
      "                                                      \n",
      "🧪 View experiment at: http://127.0.0.1:5000/#/experiments/164548606967977100\n",
      "\n",
      "\n",
      "  0%|          | 0/15 [00:16<?, ?trial/s, best loss=?]\n",
      "  7%|▋         | 1/15 [00:16<03:51, 16.57s/trial, best loss: 5.370086069268862]\n",
      "                                                                               \n",
      "🏃 View run puzzled-crow-36 at: http://127.0.0.1:5000/#/experiments/164548606967977100/runs/0f46ba9bfa874766b99b4ab604bf2943\n",
      "\n",
      "\n",
      "  7%|▋         | 1/15 [00:17<03:51, 16.57s/trial, best loss: 5.370086069268862]\n",
      "                                                                               \n",
      "🧪 View experiment at: http://127.0.0.1:5000/#/experiments/164548606967977100\n",
      "\n",
      "\n",
      "  7%|▋         | 1/15 [00:17<03:51, 16.57s/trial, best loss: 5.370086069268862]\n",
      " 13%|█▎        | 2/15 [00:17<01:34,  7.30s/trial, best loss: 5.370086069268862]\n",
      "                                                                               \n",
      "🏃 View run lyrical-shad-474 at: http://127.0.0.1:5000/#/experiments/164548606967977100/runs/6d5f6904d43940aabfe77e0c0118e14b\n",
      "\n",
      "\n",
      " 13%|█▎        | 2/15 [00:19<01:34,  7.30s/trial, best loss: 5.370086069268862]\n",
      "                                                                               \n",
      "🧪 View experiment at: http://127.0.0.1:5000/#/experiments/164548606967977100\n",
      "\n",
      "\n",
      " 13%|█▎        | 2/15 [00:19<01:34,  7.30s/trial, best loss: 5.370086069268862]\n",
      " 20%|██        | 3/15 [00:19<00:57,  4.76s/trial, best loss: 5.370086069268862]\n",
      "                                                                               \n",
      "🏃 View run luminous-horse-952 at: http://127.0.0.1:5000/#/experiments/164548606967977100/runs/be0a279aca344fcb85346fb1f6ba6e50\n",
      "\n",
      "\n",
      " 20%|██        | 3/15 [00:31<00:57,  4.76s/trial, best loss: 5.370086069268862]\n",
      "                                                                               \n",
      "🧪 View experiment at: http://127.0.0.1:5000/#/experiments/164548606967977100\n",
      "\n",
      "\n",
      " 20%|██        | 3/15 [00:31<00:57,  4.76s/trial, best loss: 5.370086069268862]\n",
      " 27%|██▋       | 4/15 [00:31<01:23,  7.59s/trial, best loss: 5.357490752366866]\n",
      "                                                                               \n",
      "🏃 View run sedate-pig-921 at: http://127.0.0.1:5000/#/experiments/164548606967977100/runs/0a3ea662d27b43308e0e049a51565434\n",
      "\n",
      "\n",
      " 27%|██▋       | 4/15 [00:36<01:23,  7.59s/trial, best loss: 5.357490752366866]\n",
      "                                                                               \n",
      "🧪 View experiment at: http://127.0.0.1:5000/#/experiments/164548606967977100\n",
      "\n",
      "\n",
      " 27%|██▋       | 4/15 [00:36<01:23,  7.59s/trial, best loss: 5.357490752366866]\n",
      " 33%|███▎      | 5/15 [00:36<01:09,  6.97s/trial, best loss: 5.357490752366866]\n",
      "                                                                               \n",
      "🏃 View run fortunate-finch-405 at: http://127.0.0.1:5000/#/experiments/164548606967977100/runs/cc8efb17b72f496195b3488bfdbe9c0a\n",
      "\n",
      "\n",
      " 33%|███▎      | 5/15 [00:56<01:09,  6.97s/trial, best loss: 5.357490752366866]\n",
      "                                                                               \n",
      "🧪 View experiment at: http://127.0.0.1:5000/#/experiments/164548606967977100\n",
      "\n",
      "\n",
      " 33%|███▎      | 5/15 [00:56<01:09,  6.97s/trial, best loss: 5.357490752366866]\n",
      " 40%|████      | 6/15 [00:56<01:40, 11.12s/trial, best loss: 5.354695072530291]\n",
      "                                                                               \n",
      "🏃 View run clumsy-squid-767 at: http://127.0.0.1:5000/#/experiments/164548606967977100/runs/f448336e3f254833b91a09adf46dd51a\n",
      "\n",
      "\n",
      " 40%|████      | 6/15 [01:14<01:40, 11.12s/trial, best loss: 5.354695072530291]\n",
      "                                                                               \n",
      "🧪 View experiment at: http://127.0.0.1:5000/#/experiments/164548606967977100\n",
      "\n",
      "\n",
      " 40%|████      | 6/15 [01:14<01:40, 11.12s/trial, best loss: 5.354695072530291]\n",
      " 47%|████▋     | 7/15 [01:14<01:47, 13.44s/trial, best loss: 5.354695072530291]\n",
      "                                                                               \n",
      "🏃 View run illustrious-sow-111 at: http://127.0.0.1:5000/#/experiments/164548606967977100/runs/e9ee45515922469b801bf5626c9a3da2\n",
      "\n",
      "\n",
      " 47%|████▋     | 7/15 [01:16<01:47, 13.44s/trial, best loss: 5.354695072530291]\n",
      "                                                                               \n",
      "🧪 View experiment at: http://127.0.0.1:5000/#/experiments/164548606967977100\n",
      "\n",
      "\n",
      " 47%|████▋     | 7/15 [01:16<01:47, 13.44s/trial, best loss: 5.354695072530291]\n",
      " 53%|█████▎    | 8/15 [01:16<01:09,  9.99s/trial, best loss: 5.354695072530291]\n",
      "                                                                               \n",
      "🏃 View run unleashed-finch-929 at: http://127.0.0.1:5000/#/experiments/164548606967977100/runs/9a232ddef0b049d8866d832e03bf2084\n",
      "\n",
      "\n",
      " 53%|█████▎    | 8/15 [01:28<01:09,  9.99s/trial, best loss: 5.354695072530291]\n",
      "                                                                               \n",
      "🧪 View experiment at: http://127.0.0.1:5000/#/experiments/164548606967977100\n",
      "\n",
      "\n",
      " 53%|█████▎    | 8/15 [01:28<01:09,  9.99s/trial, best loss: 5.354695072530291]\n",
      " 60%|██████    | 9/15 [01:28<01:03, 10.58s/trial, best loss: 5.354695072530291]\n",
      "                                                                               \n",
      "🏃 View run clean-penguin-202 at: http://127.0.0.1:5000/#/experiments/164548606967977100/runs/8821ccb81d53401b9290bd5589ee8f8e\n",
      "\n",
      "\n",
      " 60%|██████    | 9/15 [01:38<01:03, 10.58s/trial, best loss: 5.354695072530291]\n",
      "                                                                               \n",
      "🧪 View experiment at: http://127.0.0.1:5000/#/experiments/164548606967977100\n",
      "\n",
      "\n",
      " 60%|██████    | 9/15 [01:38<01:03, 10.58s/trial, best loss: 5.354695072530291]\n",
      " 67%|██████▋   | 10/15 [01:38<00:51, 10.36s/trial, best loss: 5.354695072530291]\n",
      "                                                                                \n",
      "🏃 View run brawny-whale-743 at: http://127.0.0.1:5000/#/experiments/164548606967977100/runs/2eeca4755c164d30b2a426d3e4796b54\n",
      "\n",
      "\n",
      " 67%|██████▋   | 10/15 [01:46<00:51, 10.36s/trial, best loss: 5.354695072530291]\n",
      "                                                                                \n",
      "🧪 View experiment at: http://127.0.0.1:5000/#/experiments/164548606967977100\n",
      "\n",
      "\n",
      " 67%|██████▋   | 10/15 [01:46<00:51, 10.36s/trial, best loss: 5.354695072530291]\n",
      " 73%|███████▎  | 11/15 [01:46<00:38,  9.65s/trial, best loss: 5.335419588556921]\n",
      "                                                                                \n",
      "🏃 View run rare-chimp-235 at: http://127.0.0.1:5000/#/experiments/164548606967977100/runs/f1d3a08c7cae44c7855f24bff5140121\n",
      "\n",
      "\n",
      " 73%|███████▎  | 11/15 [01:53<00:38,  9.65s/trial, best loss: 5.335419588556921]\n",
      "                                                                                \n",
      "🧪 View experiment at: http://127.0.0.1:5000/#/experiments/164548606967977100\n",
      "\n",
      "\n",
      " 73%|███████▎  | 11/15 [01:53<00:38,  9.65s/trial, best loss: 5.335419588556921]\n",
      " 80%|████████  | 12/15 [01:53<00:25,  8.64s/trial, best loss: 5.335419588556921]\n",
      "                                                                                \n",
      "🏃 View run burly-sheep-105 at: http://127.0.0.1:5000/#/experiments/164548606967977100/runs/bfa1248051ec4c5cb77a56d09cf164bd\n",
      "\n",
      "\n",
      " 80%|████████  | 12/15 [01:55<00:25,  8.64s/trial, best loss: 5.335419588556921]\n",
      "                                                                                \n",
      "🧪 View experiment at: http://127.0.0.1:5000/#/experiments/164548606967977100\n",
      "\n",
      "\n",
      " 80%|████████  | 12/15 [01:55<00:25,  8.64s/trial, best loss: 5.335419588556921]\n",
      " 87%|████████▋ | 13/15 [01:55<00:13,  6.88s/trial, best loss: 5.335419588556921]\n",
      "                                                                                \n",
      "🏃 View run sassy-penguin-262 at: http://127.0.0.1:5000/#/experiments/164548606967977100/runs/306506de57aa4dae94d5bc7ca775e9f4\n",
      "\n",
      "\n",
      " 87%|████████▋ | 13/15 [02:03<00:13,  6.88s/trial, best loss: 5.335419588556921]\n",
      "                                                                                \n",
      "🧪 View experiment at: http://127.0.0.1:5000/#/experiments/164548606967977100\n",
      "\n",
      "\n",
      " 87%|████████▋ | 13/15 [02:03<00:13,  6.88s/trial, best loss: 5.335419588556921]\n",
      " 93%|█████████▎| 14/15 [02:03<00:07,  7.16s/trial, best loss: 5.335419588556921]\n",
      "                                                                                \n",
      "🏃 View run redolent-doe-726 at: http://127.0.0.1:5000/#/experiments/164548606967977100/runs/dc6058c3739e4f12a4c21644ca8c0b22\n",
      "\n",
      "\n",
      " 93%|█████████▎| 14/15 [02:15<00:07,  7.16s/trial, best loss: 5.335419588556921]\n",
      "                                                                                \n",
      "🧪 View experiment at: http://127.0.0.1:5000/#/experiments/164548606967977100\n",
      "\n",
      "\n",
      " 93%|█████████▎| 14/15 [02:15<00:07,  7.16s/trial, best loss: 5.335419588556921]\n",
      "100%|██████████| 15/15 [02:15<00:00,  8.47s/trial, best loss: 5.335419588556921]\n",
      "100%|██████████| 15/15 [02:15<00:00,  9.01s/trial, best loss: 5.335419588556921]\n"
     ]
    }
   ],
   "source": [
    "# this will run a hyperoptimization process to find the best hyperparameters for the model\n",
    "\n",
    "# !python \"./src/hyo.py\" --data_path \"./output\" --num_trials 15"
   ]
  },
  {
   "cell_type": "code",
   "execution_count": 28,
   "id": "ccc3af7b",
   "metadata": {},
   "outputs": [
    {
     "name": "stdout",
     "output_type": "stream",
     "text": [
      "Best RMSE: 5.335419588556921\n"
     ]
    }
   ],
   "source": [
    "# find the best rmse from the mlflow tracking server of the run names random-forest-hyperopt\n",
    "\n",
    "# Set the tracking URI if needed\n",
    "mlflow.set_tracking_uri(\"http://127.0.0.1:5000\")\n",
    "\n",
    "# Set the experiment name\n",
    "experiment_name = \"random-forest-hyperopt\"\n",
    "\n",
    "# Search for all runs in the experiment\n",
    "runs = mlflow.search_runs(experiment_ids=[mlflow.get_experiment_by_name(experiment_name).experiment_id])\n",
    "\n",
    "# Find the run with the lowest RMSE\n",
    "best_run = None\n",
    "best_rmse = float('inf')  # Initialize to a large value\n",
    "\n",
    "for _, run in runs.iterrows():\n",
    "    rmse = run['metrics.rmse']  # Access the RMSE metric for the run\n",
    "    if rmse < best_rmse:\n",
    "        best_rmse = rmse\n",
    "        best_run = run\n",
    "\n",
    "# Print the best RMSE and its associated hyperparameters\n",
    "if best_run is not None:\n",
    "    print(f\"Best RMSE: {best_rmse}\")\n",
    "else:\n",
    "    print(\"No runs found!\")\n"
   ]
  },
  {
   "cell_type": "markdown",
   "id": "71f1c55e",
   "metadata": {},
   "source": [
    "## question 6 - promote the best model to the model registry"
   ]
  },
  {
   "cell_type": "code",
   "execution_count": 31,
   "id": "ff233f6d",
   "metadata": {},
   "outputs": [
    {
     "name": "stdout",
     "output_type": "stream",
     "text": [
      "🏃 View run mysterious-grub-768 at: http://127.0.0.1:5000/#/experiments/809024351200110066/runs/b8e86ec1ceed42f3bb1a0da8f7472688\n",
      "🧪 View experiment at: http://127.0.0.1:5000/#/experiments/809024351200110066\n",
      "🏃 View run redolent-moose-524 at: http://127.0.0.1:5000/#/experiments/809024351200110066/runs/80c80e27d1884105846dfd8fd8c77f7f\n",
      "🧪 View experiment at: http://127.0.0.1:5000/#/experiments/809024351200110066\n",
      "🏃 View run melodic-hen-161 at: http://127.0.0.1:5000/#/experiments/809024351200110066/runs/c246acfedb564bd08334270769c5ba4c\n",
      "🧪 View experiment at: http://127.0.0.1:5000/#/experiments/809024351200110066\n",
      "🏃 View run gregarious-finch-344 at: http://127.0.0.1:5000/#/experiments/809024351200110066/runs/5fdf84fcd9ca411cb277e588c2070d48\n",
      "🧪 View experiment at: http://127.0.0.1:5000/#/experiments/809024351200110066\n",
      "🏃 View run monumental-hare-109 at: http://127.0.0.1:5000/#/experiments/809024351200110066/runs/db47be92836f4fa8835aa78e68b29dfd\n",
      "🧪 View experiment at: http://127.0.0.1:5000/#/experiments/809024351200110066\n",
      "No model selected for registration.\n"
     ]
    }
   ],
   "source": [
    "# this will check the top 5 models, then evaluate. and finally it will move the best model to the model registry\n",
    "\n",
    "!python ./src/register_model.py --data_path ./output --top_n 5\n"
   ]
  }
 ],
 "metadata": {
  "kernelspec": {
   "display_name": "zoomcampenv1",
   "language": "python",
   "name": "python3"
  },
  "language_info": {
   "codemirror_mode": {
    "name": "ipython",
    "version": 3
   },
   "file_extension": ".py",
   "mimetype": "text/x-python",
   "name": "python",
   "nbconvert_exporter": "python",
   "pygments_lexer": "ipython3",
   "version": "3.12.6"
  }
 },
 "nbformat": 4,
 "nbformat_minor": 5
}
