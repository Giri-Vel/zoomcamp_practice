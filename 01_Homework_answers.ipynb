{
 "cells": [
  {
   "cell_type": "markdown",
   "id": "6bc62cc4",
   "metadata": {},
   "source": [
    "# I did all of this in my local\n",
    "## hence had to drastically reduce my overall dataset volumne while training and testing \n",
    "\n",
    "###  i understand the repercussions of this in terms of performance of the model on the overall population and the accuracy of my answers.\n"
   ]
  },
  {
   "cell_type": "code",
   "execution_count": 1,
   "id": "7a214a51",
   "metadata": {},
   "outputs": [],
   "source": [
    "import pandas as pd \n",
    "import numpy as np\n"
   ]
  },
  {
   "cell_type": "code",
   "execution_count": null,
   "id": "0e8ffad5",
   "metadata": {},
   "outputs": [
    {
     "data": {
      "text/html": [
       "<div>\n",
       "<style scoped>\n",
       "    .dataframe tbody tr th:only-of-type {\n",
       "        vertical-align: middle;\n",
       "    }\n",
       "\n",
       "    .dataframe tbody tr th {\n",
       "        vertical-align: top;\n",
       "    }\n",
       "\n",
       "    .dataframe thead th {\n",
       "        text-align: right;\n",
       "    }\n",
       "</style>\n",
       "<table border=\"1\" class=\"dataframe\">\n",
       "  <thead>\n",
       "    <tr style=\"text-align: right;\">\n",
       "      <th></th>\n",
       "      <th>VendorID</th>\n",
       "      <th>tpep_pickup_datetime</th>\n",
       "      <th>tpep_dropoff_datetime</th>\n",
       "      <th>passenger_count</th>\n",
       "      <th>trip_distance</th>\n",
       "      <th>RatecodeID</th>\n",
       "      <th>store_and_fwd_flag</th>\n",
       "      <th>PULocationID</th>\n",
       "      <th>DOLocationID</th>\n",
       "      <th>payment_type</th>\n",
       "      <th>fare_amount</th>\n",
       "      <th>extra</th>\n",
       "      <th>mta_tax</th>\n",
       "      <th>tip_amount</th>\n",
       "      <th>tolls_amount</th>\n",
       "      <th>improvement_surcharge</th>\n",
       "      <th>total_amount</th>\n",
       "      <th>congestion_surcharge</th>\n",
       "      <th>airport_fee</th>\n",
       "    </tr>\n",
       "  </thead>\n",
       "  <tbody>\n",
       "    <tr>\n",
       "      <th>0</th>\n",
       "      <td>2</td>\n",
       "      <td>2023-01-01 00:32:10</td>\n",
       "      <td>2023-01-01 00:40:36</td>\n",
       "      <td>1.0</td>\n",
       "      <td>0.97</td>\n",
       "      <td>1.0</td>\n",
       "      <td>N</td>\n",
       "      <td>161</td>\n",
       "      <td>141</td>\n",
       "      <td>2</td>\n",
       "      <td>9.3</td>\n",
       "      <td>1.00</td>\n",
       "      <td>0.5</td>\n",
       "      <td>0.00</td>\n",
       "      <td>0.0</td>\n",
       "      <td>1.0</td>\n",
       "      <td>14.30</td>\n",
       "      <td>2.5</td>\n",
       "      <td>0.00</td>\n",
       "    </tr>\n",
       "    <tr>\n",
       "      <th>1</th>\n",
       "      <td>2</td>\n",
       "      <td>2023-01-01 00:55:08</td>\n",
       "      <td>2023-01-01 01:01:27</td>\n",
       "      <td>1.0</td>\n",
       "      <td>1.10</td>\n",
       "      <td>1.0</td>\n",
       "      <td>N</td>\n",
       "      <td>43</td>\n",
       "      <td>237</td>\n",
       "      <td>1</td>\n",
       "      <td>7.9</td>\n",
       "      <td>1.00</td>\n",
       "      <td>0.5</td>\n",
       "      <td>4.00</td>\n",
       "      <td>0.0</td>\n",
       "      <td>1.0</td>\n",
       "      <td>16.90</td>\n",
       "      <td>2.5</td>\n",
       "      <td>0.00</td>\n",
       "    </tr>\n",
       "    <tr>\n",
       "      <th>2</th>\n",
       "      <td>2</td>\n",
       "      <td>2023-01-01 00:25:04</td>\n",
       "      <td>2023-01-01 00:37:49</td>\n",
       "      <td>1.0</td>\n",
       "      <td>2.51</td>\n",
       "      <td>1.0</td>\n",
       "      <td>N</td>\n",
       "      <td>48</td>\n",
       "      <td>238</td>\n",
       "      <td>1</td>\n",
       "      <td>14.9</td>\n",
       "      <td>1.00</td>\n",
       "      <td>0.5</td>\n",
       "      <td>15.00</td>\n",
       "      <td>0.0</td>\n",
       "      <td>1.0</td>\n",
       "      <td>34.90</td>\n",
       "      <td>2.5</td>\n",
       "      <td>0.00</td>\n",
       "    </tr>\n",
       "    <tr>\n",
       "      <th>3</th>\n",
       "      <td>1</td>\n",
       "      <td>2023-01-01 00:03:48</td>\n",
       "      <td>2023-01-01 00:13:25</td>\n",
       "      <td>0.0</td>\n",
       "      <td>1.90</td>\n",
       "      <td>1.0</td>\n",
       "      <td>N</td>\n",
       "      <td>138</td>\n",
       "      <td>7</td>\n",
       "      <td>1</td>\n",
       "      <td>12.1</td>\n",
       "      <td>7.25</td>\n",
       "      <td>0.5</td>\n",
       "      <td>0.00</td>\n",
       "      <td>0.0</td>\n",
       "      <td>1.0</td>\n",
       "      <td>20.85</td>\n",
       "      <td>0.0</td>\n",
       "      <td>1.25</td>\n",
       "    </tr>\n",
       "    <tr>\n",
       "      <th>4</th>\n",
       "      <td>2</td>\n",
       "      <td>2023-01-01 00:10:29</td>\n",
       "      <td>2023-01-01 00:21:19</td>\n",
       "      <td>1.0</td>\n",
       "      <td>1.43</td>\n",
       "      <td>1.0</td>\n",
       "      <td>N</td>\n",
       "      <td>107</td>\n",
       "      <td>79</td>\n",
       "      <td>1</td>\n",
       "      <td>11.4</td>\n",
       "      <td>1.00</td>\n",
       "      <td>0.5</td>\n",
       "      <td>3.28</td>\n",
       "      <td>0.0</td>\n",
       "      <td>1.0</td>\n",
       "      <td>19.68</td>\n",
       "      <td>2.5</td>\n",
       "      <td>0.00</td>\n",
       "    </tr>\n",
       "  </tbody>\n",
       "</table>\n",
       "</div>"
      ],
      "text/plain": [
       "   VendorID tpep_pickup_datetime tpep_dropoff_datetime  passenger_count  \\\n",
       "0         2  2023-01-01 00:32:10   2023-01-01 00:40:36              1.0   \n",
       "1         2  2023-01-01 00:55:08   2023-01-01 01:01:27              1.0   \n",
       "2         2  2023-01-01 00:25:04   2023-01-01 00:37:49              1.0   \n",
       "3         1  2023-01-01 00:03:48   2023-01-01 00:13:25              0.0   \n",
       "4         2  2023-01-01 00:10:29   2023-01-01 00:21:19              1.0   \n",
       "\n",
       "   trip_distance  RatecodeID store_and_fwd_flag  PULocationID  DOLocationID  \\\n",
       "0           0.97         1.0                  N           161           141   \n",
       "1           1.10         1.0                  N            43           237   \n",
       "2           2.51         1.0                  N            48           238   \n",
       "3           1.90         1.0                  N           138             7   \n",
       "4           1.43         1.0                  N           107            79   \n",
       "\n",
       "   payment_type  fare_amount  extra  mta_tax  tip_amount  tolls_amount  \\\n",
       "0             2          9.3   1.00      0.5        0.00           0.0   \n",
       "1             1          7.9   1.00      0.5        4.00           0.0   \n",
       "2             1         14.9   1.00      0.5       15.00           0.0   \n",
       "3             1         12.1   7.25      0.5        0.00           0.0   \n",
       "4             1         11.4   1.00      0.5        3.28           0.0   \n",
       "\n",
       "   improvement_surcharge  total_amount  congestion_surcharge  airport_fee  \n",
       "0                    1.0         14.30                   2.5         0.00  \n",
       "1                    1.0         16.90                   2.5         0.00  \n",
       "2                    1.0         34.90                   2.5         0.00  \n",
       "3                    1.0         20.85                   0.0         1.25  \n",
       "4                    1.0         19.68                   2.5         0.00  "
      ]
     },
     "execution_count": 2,
     "metadata": {},
     "output_type": "execute_result"
    }
   ],
   "source": [
    "## read the january trip details \n",
    "january_trip = pd.read_parquet(r'D:\\MLOPS learning\\mlops_zoomcamp\\01\\yellow_tripdata_2023-01.parquet')\n",
    "january_trip.head()"
   ]
  },
  {
   "cell_type": "code",
   "execution_count": 7,
   "id": "b9722fdb",
   "metadata": {},
   "outputs": [
    {
     "name": "stdout",
     "output_type": "stream",
     "text": [
      "<class 'pandas.core.frame.DataFrame'>\n",
      "RangeIndex: 3066766 entries, 0 to 3066765\n",
      "Data columns (total 20 columns):\n",
      " #   Column                 Dtype         \n",
      "---  ------                 -----         \n",
      " 0   VendorID               int64         \n",
      " 1   tpep_pickup_datetime   datetime64[us]\n",
      " 2   tpep_dropoff_datetime  datetime64[us]\n",
      " 3   passenger_count        float64       \n",
      " 4   trip_distance          float64       \n",
      " 5   RatecodeID             float64       \n",
      " 6   store_and_fwd_flag     object        \n",
      " 7   PULocationID           int64         \n",
      " 8   DOLocationID           int64         \n",
      " 9   payment_type           int64         \n",
      " 10  fare_amount            float64       \n",
      " 11  extra                  float64       \n",
      " 12  mta_tax                float64       \n",
      " 13  tip_amount             float64       \n",
      " 14  tolls_amount           float64       \n",
      " 15  improvement_surcharge  float64       \n",
      " 16  total_amount           float64       \n",
      " 17  congestion_surcharge   float64       \n",
      " 18  airport_fee            float64       \n",
      " 19  duration               float64       \n",
      "dtypes: datetime64[us](2), float64(13), int64(4), object(1)\n",
      "memory usage: 468.0+ MB\n"
     ]
    }
   ],
   "source": [
    "january_trip.info()"
   ]
  },
  {
   "cell_type": "code",
   "execution_count": 8,
   "id": "2bfc980f",
   "metadata": {},
   "outputs": [
    {
     "name": "stdout",
     "output_type": "stream",
     "text": [
      "count    3.066766e+06\n",
      "mean     1.566900e+01\n",
      "std      4.259435e+01\n",
      "min     -2.920000e+01\n",
      "25%      7.116667e+00\n",
      "50%      1.151667e+01\n",
      "75%      1.830000e+01\n",
      "max      1.002918e+04\n",
      "Name: duration, dtype: float64\n",
      "0     8.433333\n",
      "1     6.316667\n",
      "2    12.750000\n",
      "3     9.616667\n",
      "4    10.833333\n",
      "Name: duration, dtype: float64\n"
     ]
    }
   ],
   "source": [
    "# lets compute the duration of the trip in minutes \n",
    "january_trip['duration'] = (january_trip['tpep_dropoff_datetime'] - january_trip['tpep_pickup_datetime']).dt.total_seconds() / 60\n",
    "print(january_trip['duration'].describe())\n",
    "print(january_trip['duration'].head()) \n",
    "\n"
   ]
  },
  {
   "cell_type": "code",
   "execution_count": null,
   "id": "8898b8a8",
   "metadata": {},
   "outputs": [],
   "source": [
    "# lets see the distribution of the duration by using a box plot\n",
    "import matplotlib.pyplot as plt\n",
    "import seaborn as sns\n",
    "\n",
    "plt.figure(figsize=(12, 6))\n",
    "sns.boxplot(x=january_trip['duration'])\n",
    "plt.xlim(0, 60)\n",
    "plt.title('Trip Duration Distribution')\n",
    "plt.xlabel('Duration (minutes)')\n",
    "plt.show()\n"
   ]
  },
  {
   "cell_type": "code",
   "execution_count": 9,
   "id": "09099e40",
   "metadata": {},
   "outputs": [
    {
     "name": "stdout",
     "output_type": "stream",
     "text": [
      "count    3.009173e+06\n",
      "mean     1.420486e+01\n",
      "std      9.939386e+00\n",
      "min      1.000000e+00\n",
      "25%      7.216667e+00\n",
      "50%      1.155000e+01\n",
      "75%      1.818333e+01\n",
      "max      6.000000e+01\n",
      "Name: duration, dtype: float64\n",
      "0     8.433333\n",
      "1     6.316667\n",
      "2    12.750000\n",
      "3     9.616667\n",
      "4    10.833333\n",
      "Name: duration, dtype: float64\n"
     ]
    }
   ],
   "source": [
    "# drop values that are  greater than 60 minutes or less than 1 minute in a new variable\n",
    "# and see the distribution of the duration again\n",
    "january_trip_cleaned = january_trip[(january_trip['duration'] >= 1) & (january_trip['duration'] <= 60)]\n",
    "print(january_trip_cleaned['duration'].describe())\n",
    "print(january_trip_cleaned['duration'].head()) "
   ]
  },
  {
   "cell_type": "code",
   "execution_count": 10,
   "id": "4d24cdda",
   "metadata": {},
   "outputs": [
    {
     "name": "stdout",
     "output_type": "stream",
     "text": [
      "Reduction in count: 57593 (98.12%)\n",
      "Original count: 3066766\n",
      "Cleaned count: 3009173\n"
     ]
    }
   ],
   "source": [
    "# find the reduction of count in percentage from the original data to the cleaned data\n",
    "reduction_count = len(january_trip) - len(january_trip_cleaned)\n",
    "reduction_percentage = (1 - (reduction_count / len(january_trip))) * 100\n",
    "print(f\"Reduction in count: {reduction_count} ({reduction_percentage:.2f}%)\")\n",
    "print(f\"Original count: {len(january_trip)}\")\n",
    "print(f\"Cleaned count: {len(january_trip_cleaned)}\")\n"
   ]
  },
  {
   "cell_type": "code",
   "execution_count": 11,
   "id": "063dcf63",
   "metadata": {},
   "outputs": [
    {
     "name": "stdout",
     "output_type": "stream",
     "text": [
      "   VendorID tpep_pickup_datetime tpep_dropoff_datetime  passenger_count  \\\n",
      "0         2  2023-01-01 00:32:10   2023-01-01 00:40:36              1.0   \n",
      "1         2  2023-01-01 00:55:08   2023-01-01 01:01:27              1.0   \n",
      "2         2  2023-01-01 00:25:04   2023-01-01 00:37:49              1.0   \n",
      "3         1  2023-01-01 00:03:48   2023-01-01 00:13:25              0.0   \n",
      "4         2  2023-01-01 00:10:29   2023-01-01 00:21:19              1.0   \n",
      "\n",
      "   trip_distance  RatecodeID store_and_fwd_flag  PULocationID  DOLocationID  \\\n",
      "0           0.97         1.0                  N           161           141   \n",
      "1           1.10         1.0                  N            43           237   \n",
      "2           2.51         1.0                  N            48           238   \n",
      "3           1.90         1.0                  N           138             7   \n",
      "4           1.43         1.0                  N           107            79   \n",
      "\n",
      "   payment_type  fare_amount  extra  mta_tax  tip_amount  tolls_amount  \\\n",
      "0             2          9.3   1.00      0.5        0.00           0.0   \n",
      "1             1          7.9   1.00      0.5        4.00           0.0   \n",
      "2             1         14.9   1.00      0.5       15.00           0.0   \n",
      "3             1         12.1   7.25      0.5        0.00           0.0   \n",
      "4             1         11.4   1.00      0.5        3.28           0.0   \n",
      "\n",
      "   improvement_surcharge  total_amount  congestion_surcharge  airport_fee  \\\n",
      "0                    1.0         14.30                   2.5         0.00   \n",
      "1                    1.0         16.90                   2.5         0.00   \n",
      "2                    1.0         34.90                   2.5         0.00   \n",
      "3                    1.0         20.85                   0.0         1.25   \n",
      "4                    1.0         19.68                   2.5         0.00   \n",
      "\n",
      "    duration  \n",
      "0   8.433333  \n",
      "1   6.316667  \n",
      "2  12.750000  \n",
      "3   9.616667  \n",
      "4  10.833333  \n",
      "<class 'pandas.core.frame.DataFrame'>\n",
      "Index: 3009173 entries, 0 to 3066765\n",
      "Data columns (total 20 columns):\n",
      " #   Column                 Dtype         \n",
      "---  ------                 -----         \n",
      " 0   VendorID               int64         \n",
      " 1   tpep_pickup_datetime   datetime64[us]\n",
      " 2   tpep_dropoff_datetime  datetime64[us]\n",
      " 3   passenger_count        float64       \n",
      " 4   trip_distance          float64       \n",
      " 5   RatecodeID             float64       \n",
      " 6   store_and_fwd_flag     object        \n",
      " 7   PULocationID           int64         \n",
      " 8   DOLocationID           int64         \n",
      " 9   payment_type           int64         \n",
      " 10  fare_amount            float64       \n",
      " 11  extra                  float64       \n",
      " 12  mta_tax                float64       \n",
      " 13  tip_amount             float64       \n",
      " 14  tolls_amount           float64       \n",
      " 15  improvement_surcharge  float64       \n",
      " 16  total_amount           float64       \n",
      " 17  congestion_surcharge   float64       \n",
      " 18  airport_fee            float64       \n",
      " 19  duration               float64       \n",
      "dtypes: datetime64[us](2), float64(13), int64(4), object(1)\n",
      "memory usage: 482.1+ MB\n",
      "None\n"
     ]
    }
   ],
   "source": [
    "print(january_trip_cleaned.head())\n",
    "print(january_trip_cleaned.info())"
   ]
  },
  {
   "cell_type": "code",
   "execution_count": 14,
   "id": "c0a4d9a5",
   "metadata": {},
   "outputs": [],
   "source": [
    "# Fit a dictionary vectorizer to the january trip location dict \n",
    "from sklearn.feature_extraction import DictVectorizer\n",
    "\n",
    "dv = DictVectorizer(sparse=False)\n"
   ]
  },
  {
   "cell_type": "code",
   "execution_count": 15,
   "id": "770ce8d5",
   "metadata": {},
   "outputs": [
    {
     "data": {
      "text/html": [
       "<div>\n",
       "<style scoped>\n",
       "    .dataframe tbody tr th:only-of-type {\n",
       "        vertical-align: middle;\n",
       "    }\n",
       "\n",
       "    .dataframe tbody tr th {\n",
       "        vertical-align: top;\n",
       "    }\n",
       "\n",
       "    .dataframe thead th {\n",
       "        text-align: right;\n",
       "    }\n",
       "</style>\n",
       "<table border=\"1\" class=\"dataframe\">\n",
       "  <thead>\n",
       "    <tr style=\"text-align: right;\">\n",
       "      <th></th>\n",
       "      <th>PULocationID</th>\n",
       "      <th>DOLocationID</th>\n",
       "      <th>duration</th>\n",
       "    </tr>\n",
       "  </thead>\n",
       "  <tbody>\n",
       "    <tr>\n",
       "      <th>0</th>\n",
       "      <td>161</td>\n",
       "      <td>141</td>\n",
       "      <td>8.433333</td>\n",
       "    </tr>\n",
       "    <tr>\n",
       "      <th>1</th>\n",
       "      <td>43</td>\n",
       "      <td>237</td>\n",
       "      <td>6.316667</td>\n",
       "    </tr>\n",
       "    <tr>\n",
       "      <th>2</th>\n",
       "      <td>48</td>\n",
       "      <td>238</td>\n",
       "      <td>12.750000</td>\n",
       "    </tr>\n",
       "    <tr>\n",
       "      <th>3</th>\n",
       "      <td>138</td>\n",
       "      <td>7</td>\n",
       "      <td>9.616667</td>\n",
       "    </tr>\n",
       "    <tr>\n",
       "      <th>4</th>\n",
       "      <td>107</td>\n",
       "      <td>79</td>\n",
       "      <td>10.833333</td>\n",
       "    </tr>\n",
       "  </tbody>\n",
       "</table>\n",
       "</div>"
      ],
      "text/plain": [
       "  PULocationID DOLocationID   duration\n",
       "0          161          141   8.433333\n",
       "1           43          237   6.316667\n",
       "2           48          238  12.750000\n",
       "3          138            7   9.616667\n",
       "4          107           79  10.833333"
      ]
     },
     "execution_count": 15,
     "metadata": {},
     "output_type": "execute_result"
    }
   ],
   "source": [
    "january_trip_location = january_trip_cleaned[['PULocationID', 'DOLocationID']].copy()\n",
    "january_trip_location['PULocationID'] = january_trip_location['PULocationID'].astype(str)\n",
    "january_trip_location['DOLocationID'] = january_trip_location['DOLocationID'].astype(str)\n",
    "# add duration to the january_trip_location dataframe\n",
    "january_trip_location['duration'] = january_trip_cleaned['duration'].values\n",
    "january_trip_location.head()\n",
    "\n"
   ]
  },
  {
   "cell_type": "code",
   "execution_count": 17,
   "id": "81cc7774",
   "metadata": {},
   "outputs": [
    {
     "name": "stdout",
     "output_type": "stream",
     "text": [
      "        PULocationID DOLocationID   duration\n",
      "1504444          238           74  21.666667\n",
      "187264            87            4   8.466667\n",
      "2842284          142          140  11.766667\n",
      "402839           236          231  20.366667\n",
      "1146455          234          230  18.166667\n",
      "<class 'pandas.core.frame.DataFrame'>\n",
      "Index: 300917 entries, 1504444 to 478629\n",
      "Data columns (total 3 columns):\n",
      " #   Column        Non-Null Count   Dtype  \n",
      "---  ------        --------------   -----  \n",
      " 0   PULocationID  300917 non-null  object \n",
      " 1   DOLocationID  300917 non-null  object \n",
      " 2   duration      300917 non-null  float64\n",
      "dtypes: float64(1), object(2)\n",
      "memory usage: 9.2+ MB\n",
      "None\n"
     ]
    }
   ],
   "source": [
    "df_small = january_trip_location.sample(frac=0.1, random_state=42)\n",
    "print(df_small.head())  # Print the first 5 rows to check the output\n",
    "print(df_small.info())  # Print the info of the dataframe to check the output"
   ]
  },
  {
   "cell_type": "code",
   "execution_count": 18,
   "id": "a329674a",
   "metadata": {},
   "outputs": [],
   "source": [
    "# create X_small that is only of pulocation and dolocation ids\n",
    "X_small = df_small[['PULocationID', 'DOLocationID']].copy()\n",
    "X_small['PULocationID'] = X_small['PULocationID'].astype(str)\n",
    "X_small['DOLocationID'] = X_small['DOLocationID'].astype(str)\n",
    "\n",
    "# create y_small that is only of duration\n",
    "y_small = df_small[['duration']].copy()\n"
   ]
  },
  {
   "cell_type": "code",
   "execution_count": 22,
   "id": "10b3b61f",
   "metadata": {},
   "outputs": [
    {
     "name": "stdout",
     "output_type": "stream",
     "text": [
      "(300917, 496)\n",
      "(300917, 496)\n"
     ]
    }
   ],
   "source": [
    "# now create X and y from the df_small dataframe\n",
    "\n",
    "X_small_dict = dv.fit_transform(X_small.to_dict(orient='records'))\n",
    "print(X_small_dict.shape)  # Check the shape of the feature matrix to ensure it matches the expected output\n",
    "print(X_small_dict.shape)  # Check the shape of the target vector to ensure it matches the expected output\n"
   ]
  },
  {
   "cell_type": "code",
   "execution_count": 23,
   "id": "352eec79",
   "metadata": {},
   "outputs": [
    {
     "name": "stdout",
     "output_type": "stream",
     "text": [
      "Model coefficients: [[ 1.91952644e+01 -2.37668913e+01 -4.09195769e+00 -4.43015017e+00\n",
      "  -6.31276277e+00  8.17276011e+00 -5.70953438e+00  3.65268618e+00\n",
      "  -1.02762349e+01  8.80548004e+00 -4.52778954e+00  1.24027055e+00\n",
      "  -3.94466731e+00 -3.46550804e+00  2.27000199e+00  6.55727717e+00\n",
      "   2.03594815e+01  9.93827476e-01  1.97597869e+00  1.86859890e+00\n",
      "  -5.29550221e+00 -1.23773950e+00  7.66448175e+00 -2.08060977e+01\n",
      "  -3.21072483e+00  3.92727916e+00  5.31246242e+00  6.60248706e+00\n",
      "  -1.91965468e-01  4.76903211e-01 -1.44210559e+01 -6.35923482e+00\n",
      "   1.53402132e+01  7.04856714e+00 -1.10878216e+01 -8.86028310e+00\n",
      "   8.57296822e+00 -5.57451436e+00  7.53835946e+00 -1.83912785e+01\n",
      "   6.82547687e+00 -3.72626328e+00 -5.31969163e+00 -4.65625576e+00\n",
      "  -3.85449722e+00 -1.43411663e+00 -1.70313914e+00 -9.18830832e-01\n",
      "   5.52609276e+00 -1.60749915e+00 -6.61149368e-01 -7.77064547e+00\n",
      "   3.20807769e+00 -4.11269252e+00 -1.43327527e+00  9.24790605e+00\n",
      "  -1.58666784e+01 -7.78175142e-01  1.04686256e+01 -1.93742224e+00\n",
      "  -3.24309010e+00  4.37120422e+00 -8.49407513e+00  4.63567154e-01\n",
      "  -4.22200258e+00 -4.86837713e+00 -3.96300889e+00 -4.66039593e+00\n",
      "   9.66810654e+00 -2.16982031e+00  4.59192365e+00  2.35477236e-01\n",
      "   4.96372382e+00  5.64559404e+00 -5.50918979e+00 -2.66087449e+00\n",
      "   2.21775452e+00 -2.87335581e-01  6.32646249e+00 -2.48765810e+00\n",
      "   2.22605290e+00  8.81431325e+00 -3.31377641e-01  9.32123328e+00\n",
      "  -1.69431446e+01  9.44627020e+00  4.93236039e+00  6.10757360e+00\n",
      "   1.18290993e+01  1.90881040e+00 -4.43316478e+00  1.19807540e+01\n",
      "   8.95079538e+00  8.45912368e+00 -7.40590603e+00  5.33077065e+00\n",
      "  -4.54596064e+00 -9.87968207e+00 -3.35037729e+00  1.33111150e+00\n",
      "   9.15827675e+00 -1.08573186e+00 -1.02375705e+01  2.78969149e+00\n",
      "  -1.54777895e+01  7.75178736e+00  7.11741380e+00  1.97168473e+00\n",
      "   4.56365853e+00 -1.70815935e+01  9.03459394e+00 -1.07459805e+01\n",
      "   6.45848301e+00 -8.28054534e+00 -1.11454023e-01  2.84959047e-01\n",
      "   8.03716943e+00 -1.47960766e+00 -2.17326002e+00  3.05688543e+00\n",
      "   4.79364214e+00  9.94294710e+00 -2.26566834e+01 -1.84611896e+01\n",
      "   6.67245846e+00 -2.06076427e+01 -2.59733923e+01  1.06778242e+01\n",
      "   6.30428655e+00  7.67153681e+00 -1.29704744e+01  7.38666422e-01\n",
      "  -4.35202261e+00  6.98328384e+00 -6.75645116e-01  8.51803870e+00\n",
      "   9.25561629e+00 -5.26994054e+00  1.58350491e+01 -2.56695734e+00\n",
      "  -1.32864077e+00 -1.89122293e+00 -5.34457257e+00 -5.38515324e+00\n",
      "   5.02639918e+00 -5.24031797e+00 -5.76016819e+00 -4.36106850e+00\n",
      "  -4.70329905e+00 -3.23123046e+00  8.45448717e+00  5.07253551e+00\n",
      "   6.50791016e+00  4.43059730e+00  3.10697874e+00  1.60770142e+01\n",
      "  -4.23473995e+00  1.42559813e+00 -7.13015540e-01 -4.47820584e+00\n",
      "   3.93161870e+00  4.08276519e+00  1.27608123e+01 -7.43635000e+00\n",
      "  -1.27655503e+01  6.71935641e+00  3.99729811e+00  1.79954793e+00\n",
      "   8.12534797e+00 -6.31620159e+00  7.95024695e+00  1.29327226e+01\n",
      "  -1.77878538e+00  1.10468209e+00 -3.88710186e+00 -5.02988680e+00\n",
      "  -6.14096675e+00  1.53554777e+00 -1.05777895e+01 -1.68776323e+01\n",
      "   1.81892748e+00  9.07455616e+00 -1.65027895e+01  7.83737121e+00\n",
      "   7.22381537e+00  3.51502718e+00  6.44018431e+00  2.55053181e+00\n",
      "   5.32495026e+00  6.16260421e+00 -1.66621095e+01 -1.07708649e+01\n",
      "  -3.23398528e+00  5.03761505e+00 -1.53781496e+00  7.11328132e-01\n",
      "  -4.48145370e+00  1.23542162e+01 -1.40991452e+00  1.60465647e+01\n",
      "   5.69406047e+00 -3.61814067e+00  4.94741236e+00  1.31752335e+01\n",
      "  -4.21246075e+00  9.31175704e+00  5.82571609e+00 -5.64836417e+00\n",
      "   3.68419794e+00  1.06052133e+01 -6.99280177e+00 -9.25417714e+00\n",
      "   1.00659464e+00  5.17287627e+00  1.07059953e+01  5.58745056e+00\n",
      "   5.62397848e+00  7.34355053e+00 -1.05017316e+01 -1.05243157e+00\n",
      "   1.61331983e+00  2.29151456e+00  1.11088660e+01 -4.39113159e+00\n",
      "   5.32286546e+00  3.08226581e-01 -9.50666717e+00  5.33858868e+00\n",
      "   1.35409204e+00 -2.80462149e+00 -3.17794931e+00 -4.28667928e+00\n",
      "  -1.14551271e+01 -1.79968924e+00  3.88521328e+00 -4.08057666e+00\n",
      "   1.21685163e-01  1.67449251e+00  5.37036697e+00 -5.98660645e-01\n",
      "  -3.50647792e+00  1.04432337e+01 -8.79965804e+00 -1.39862408e-01\n",
      "  -1.06680764e-01  8.83717237e+00 -2.58183875e+00 -5.73993813e+00\n",
      "   2.79332817e+00 -6.60768255e+00 -1.94251478e+01  6.15345910e+00\n",
      "  -4.16967905e+00 -1.08869147e+01  4.48798214e+00 -3.68827396e+00\n",
      "  -1.72438899e+01  1.38759941e+01 -6.29345067e+00  2.10775083e+01\n",
      "  -5.92356956e+00 -4.62115722e+00 -7.33652041e+00  1.80164371e+01\n",
      "  -1.02762349e+01  5.41305868e+00  6.62543608e+00 -6.71308617e+00\n",
      "  -6.67129100e+00 -6.92146888e+00  3.82708803e+01 -6.80049549e+00\n",
      "   2.76003401e+01  1.83875307e+01 -4.61127660e+00 -2.28234618e+00\n",
      "   7.63619942e+00  2.76887844e+00  1.19547406e+01  6.89302507e+00\n",
      "  -2.09697010e+00 -6.57724015e+00  2.04570646e+01 -2.12486866e+00\n",
      "  -1.41497338e+01 -7.75360711e+00 -4.42338411e+00  7.16453144e+00\n",
      "   1.02671551e+01  1.36753197e+01  6.05135221e-01  1.96978263e+00\n",
      "   4.52675379e+00  5.59473624e+00 -7.51769093e+00  4.40084123e+00\n",
      "   2.54403503e+01  8.65825683e+00 -6.78930754e+00 -8.14978068e+00\n",
      "  -7.73131968e+00 -7.89227421e+00 -5.83766045e+00 -1.03649361e+01\n",
      "  -7.01930813e+00 -3.01295491e+00 -6.56100678e+00  2.67543700e+00\n",
      "  -5.73213819e+00 -6.37828221e+00 -7.30631230e+00 -8.40590729e+00\n",
      "  -7.65491406e+00 -1.71005917e+00  8.70230395e+00 -4.80844603e+00\n",
      "  -5.52409435e+00 -5.78107876e+00  2.41120640e+00 -1.95169738e+00\n",
      "  -6.25886236e+00 -6.70960907e+00 -6.88287742e+00 -6.86896458e+00\n",
      "   2.53266122e-01 -6.31368775e+00  1.49108363e+00 -3.94887695e+00\n",
      "  -1.94932291e+00  1.76090577e+00 -6.88026631e+00  8.14530953e+00\n",
      "  -1.65076028e+01 -2.37582051e+00 -2.75448909e+00  1.43687761e+00\n",
      "   1.92903979e+01 -6.60512470e+00 -4.40393272e+00  3.91317550e+00\n",
      "  -4.39747953e+00  1.14683114e+00  8.47328991e+00  9.25441661e+00\n",
      "  -5.01173272e+00 -1.94365672e+00 -6.43137776e+00  1.05532771e+00\n",
      "  -1.94820734e+01  1.48695667e+01 -1.08616617e+00 -9.61262401e+00\n",
      "  -4.42478098e+00 -1.68256030e+00 -4.25868466e+00  8.82148700e+00\n",
      "   4.06233983e-01 -8.87385404e+00  1.17223956e+01  2.09717906e+01\n",
      "  -1.59566595e-01  1.34293402e+01  1.48205331e+01 -1.74375190e+01\n",
      "  -6.47050505e+00  2.38218836e+00 -5.04213945e+00  3.64192335e+00\n",
      "   3.29302472e-01 -6.16094939e+00 -2.40119315e+00  8.64362327e+00\n",
      "   2.90073229e+01  9.53218504e+00 -1.30843412e+00 -6.30637331e+00\n",
      "   9.18348049e+00  8.38697385e+00  1.04764768e+01 -7.23205823e+00\n",
      "   4.39096121e+00 -2.15853137e+00 -6.70103735e+00 -8.94700661e+00\n",
      "  -3.32324968e+00  3.06270384e+00 -1.95185323e+00 -7.54223800e+00\n",
      "   1.63325124e+01 -6.45563794e+00 -6.04231653e+00 -4.98790281e+00\n",
      "  -7.23229598e+00 -6.93638060e+00  8.79734467e+00 -7.32430354e+00\n",
      "  -8.06325322e+00 -7.65829008e+00 -7.89278310e+00 -6.61417661e+00\n",
      "   2.16250717e+01  3.91258880e+00  3.89345125e+00 -4.32487936e+00\n",
      "  -3.93032494e+00 -6.17616721e+00 -2.88157276e+00  1.42715772e+01\n",
      "  -6.79819612e+00 -3.71323667e+00 -4.90873746e+00  1.25581038e+01\n",
      "   1.50670196e+01 -3.70330229e+00 -5.60041974e+00 -1.28217432e-01\n",
      "   2.35859779e+00  5.17410238e+00 -7.43237702e+00 -4.61778807e+00\n",
      "  -2.91990717e+00 -7.77892392e+00 -8.24291920e+00 -1.43278057e+00\n",
      "  -9.26403669e+00  2.91377302e+00  3.48650499e-02 -2.52989171e+00\n",
      "  -1.53074879e+01 -1.49789323e+01  1.48803719e+01 -1.23323938e+00\n",
      "  -2.98772428e-01 -2.02194986e+00  5.36339903e-01 -3.08216814e+00\n",
      "  -8.10271064e-02  5.71826386e+00 -6.05696302e+00 -1.08300077e+01\n",
      "  -7.83431055e+00 -7.74892188e+00 -6.39751253e+00  1.74604712e+01\n",
      "  -3.54886710e+00 -1.04216912e+01 -7.44635870e+00 -5.63094169e+00\n",
      "   1.75909784e+01 -7.17837176e+00  1.73107638e+01  7.72707269e-01\n",
      "  -1.81761026e-01 -1.91939844e+01  2.07370386e+01  3.54654255e+00\n",
      "   7.01324701e+00 -4.20393766e+00 -9.03404291e+00 -2.73554159e+00\n",
      "   7.13758768e+00 -6.71377670e+00 -5.33092617e+00  1.83377562e+01\n",
      "  -5.64356865e+00 -5.96575622e+00 -4.85930925e+00  4.52737777e+00\n",
      "   1.70374855e+01  3.81562456e+00  2.01087694e+01 -8.53249238e+00\n",
      "  -7.30043417e+00  7.01591004e-01  1.18542584e+01 -7.07413538e+00\n",
      "  -7.12450501e+00 -4.40491151e+00  7.14669467e+00 -2.94022690e+00\n",
      "  -9.26659057e+00  3.53976932e+00  1.67170869e+01 -3.90484002e+00\n",
      "  -3.40258889e+00  3.27774373e+00  8.13157065e+00 -7.40554999e+00\n",
      "   9.38462129e+00  5.06331025e+00 -3.18997384e-01 -8.97244353e-01\n",
      "   2.12409686e-01 -3.09952865e+00 -6.81000644e+00  4.92237752e+00]]\n",
      "Model intercept: [23.11913649]\n"
     ]
    }
   ],
   "source": [
    "# lets run a linear regression model on the data no need to split the data into train and test sets as we are not going to use it for prediction\n",
    "from sklearn.linear_model import LinearRegression\n",
    "\n",
    "model = LinearRegression()\n",
    "model.fit(X_small_dict, y_small)  # Fit the model to the feature matrix and target variable\n",
    "print(f\"Model coefficients: {model.coef_}\")  # Print the model coefficients to check the output\n",
    "print(f\"Model intercept: {model.intercept_}\")  # Print the model intercept to check the output\n"
   ]
  },
  {
   "cell_type": "code",
   "execution_count": 24,
   "id": "133c0807",
   "metadata": {},
   "outputs": [
    {
     "name": "stdout",
     "output_type": "stream",
     "text": [
      "RMSE: 7.647460801474277\n"
     ]
    }
   ],
   "source": [
    "# calculate rmse \n",
    "from sklearn.metrics import mean_squared_error\n",
    "\n",
    "y_pred = model.predict(X_small_dict)  # Predict the target variable using the feature matrix\n",
    "rmse = np.sqrt(mean_squared_error(y_small, y_pred))  # Calculate the root mean squared error\n",
    "print(f\"RMSE: {rmse}\")  # Print the RMSE to check the output\n"
   ]
  },
  {
   "cell_type": "code",
   "execution_count": 25,
   "id": "a2ed27d4",
   "metadata": {},
   "outputs": [
    {
     "name": "stdout",
     "output_type": "stream",
     "text": [
      "<class 'pandas.core.frame.DataFrame'>\n",
      "RangeIndex: 2913955 entries, 0 to 2913954\n",
      "Data columns (total 19 columns):\n",
      " #   Column                 Dtype         \n",
      "---  ------                 -----         \n",
      " 0   VendorID               int32         \n",
      " 1   tpep_pickup_datetime   datetime64[us]\n",
      " 2   tpep_dropoff_datetime  datetime64[us]\n",
      " 3   passenger_count        float64       \n",
      " 4   trip_distance          float64       \n",
      " 5   RatecodeID             float64       \n",
      " 6   store_and_fwd_flag     object        \n",
      " 7   PULocationID           int32         \n",
      " 8   DOLocationID           int32         \n",
      " 9   payment_type           int64         \n",
      " 10  fare_amount            float64       \n",
      " 11  extra                  float64       \n",
      " 12  mta_tax                float64       \n",
      " 13  tip_amount             float64       \n",
      " 14  tolls_amount           float64       \n",
      " 15  improvement_surcharge  float64       \n",
      " 16  total_amount           float64       \n",
      " 17  congestion_surcharge   float64       \n",
      " 18  Airport_fee            float64       \n",
      "dtypes: datetime64[us](2), float64(12), int32(3), int64(1), object(1)\n",
      "memory usage: 389.1+ MB\n"
     ]
    }
   ],
   "source": [
    "# now lets bring in the february trip data \n",
    "february_trip = pd.read_parquet(r'D:\\MLOPS learning\\mlops_zoomcamp\\01\\yellow_tripdata_2023-02.parquet')\n",
    "february_trip.head()\n",
    "february_trip.info()\n"
   ]
  },
  {
   "cell_type": "code",
   "execution_count": 26,
   "id": "ef97df45",
   "metadata": {},
   "outputs": [
    {
     "name": "stdout",
     "output_type": "stream",
     "text": [
      "Reduction in count: 58004 (98.01%)\n",
      "Original count: 2913955\n",
      "Cleaned count: 2855951\n"
     ]
    }
   ],
   "source": [
    "# compute the duration of the trip in minutes for february trip data and remove the values greater than 60 minutes or less than 1 minute\n",
    "february_trip['duration'] = (february_trip['tpep_dropoff_datetime'] - february_trip['tpep_pickup_datetime']).dt.total_seconds() / 60\n",
    "\n",
    "\n",
    "# drop values that are  greater than 60 minutes or less than 1 minute in a new variable\n",
    "february_trip_cleaned = february_trip[(february_trip['duration'] >= 1) & (february_trip['duration'] <= 60)]\n",
    "\n",
    "\n",
    "# find the reduction of count in percentage from the original data to the cleaned data\n",
    "reduction_count = len(february_trip) - len(february_trip_cleaned)\n",
    "reduction_percentage = (1 - (reduction_count / len(february_trip))) * 100\n",
    "print(f\"Reduction in count: {reduction_count} ({reduction_percentage:.2f}%)\")  # Print the reduction count and percentage to check the output\n",
    "print(f\"Original count: {len(february_trip)}\")  # Print the original count to check the output\n",
    "print(f\"Cleaned count: {len(february_trip_cleaned)}\")  # Print the cleaned count to check the output\n",
    "\n"
   ]
  },
  {
   "cell_type": "code",
   "execution_count": 27,
   "id": "e2d21426",
   "metadata": {},
   "outputs": [
    {
     "name": "stdout",
     "output_type": "stream",
     "text": [
      "   PULocationID  DOLocationID   duration\n",
      "0           142           163   1.683333\n",
      "3           132            26  32.083333\n",
      "4           161           145  13.300000\n",
      "5           148           236  14.633333\n",
      "6           137           244  27.950000\n",
      "<class 'pandas.core.frame.DataFrame'>\n",
      "Index: 2855951 entries, 0 to 2913954\n",
      "Data columns (total 3 columns):\n",
      " #   Column        Dtype  \n",
      "---  ------        -----  \n",
      " 0   PULocationID  int32  \n",
      " 1   DOLocationID  int32  \n",
      " 2   duration      float64\n",
      "dtypes: float64(1), int32(2)\n",
      "memory usage: 65.4 MB\n",
      "None\n"
     ]
    }
   ],
   "source": [
    "# lets create a new df with onlu the pickup and dropoff location IDs for february trip data\n",
    "february_trip_location = february_trip_cleaned[['PULocationID', 'DOLocationID']].copy()\n",
    "\n",
    "# add the duration to the february_trip_location dataframe\n",
    "february_trip_location['duration'] = february_trip_cleaned['duration'].values\n",
    "print(february_trip_location.head())  # Print the first 5 rows to check the output\n",
    "print(february_trip_location.info())  # Print the info of the dataframe to check the output\n"
   ]
  },
  {
   "cell_type": "code",
   "execution_count": 28,
   "id": "874a00e9",
   "metadata": {},
   "outputs": [
    {
     "name": "stdout",
     "output_type": "stream",
     "text": [
      "         PULocationID  DOLocationID   duration\n",
      "2004046           140            68  19.650000\n",
      "332043            138           230  19.633333\n",
      "2635502           132            10   6.766667\n",
      "2474057           239           152  14.950000\n",
      "547538            237           186  23.283333\n",
      "<class 'pandas.core.frame.DataFrame'>\n",
      "Index: 285595 entries, 2004046 to 1015755\n",
      "Data columns (total 3 columns):\n",
      " #   Column        Non-Null Count   Dtype  \n",
      "---  ------        --------------   -----  \n",
      " 0   PULocationID  285595 non-null  int32  \n",
      " 1   DOLocationID  285595 non-null  int32  \n",
      " 2   duration      285595 non-null  float64\n",
      "dtypes: float64(1), int32(2)\n",
      "memory usage: 6.5 MB\n",
      "None\n"
     ]
    }
   ],
   "source": [
    "# now lets create a new df that is 1/10 of the february trip data\n",
    "df_small_feb = february_trip_location.sample(frac=0.1, random_state=42)\n",
    "print(df_small_feb.head())  # Print the first 5 rows to check the output\n",
    "print(df_small_feb.info())  # Print the info of the dataframe to check the output\n"
   ]
  },
  {
   "cell_type": "code",
   "execution_count": 29,
   "id": "f3e6ad1b",
   "metadata": {},
   "outputs": [],
   "source": [
    "# create x and y for february trip data\n",
    "X_small_feb = df_small_feb[['PULocationID', 'DOLocationID']].copy()\n",
    "X_small_feb['PULocationID'] = X_small_feb['PULocationID'].astype(str)\n",
    "X_small_feb['DOLocationID'] = X_small_feb['DOLocationID'].astype(str)\n",
    "\n",
    "# create y for february trip data\n",
    "y_small_feb = df_small_feb[['duration']].copy()\n"
   ]
  },
  {
   "cell_type": "code",
   "execution_count": 30,
   "id": "1b447acf",
   "metadata": {},
   "outputs": [
    {
     "name": "stdout",
     "output_type": "stream",
     "text": [
      "(285595, 496)\n"
     ]
    }
   ],
   "source": [
    "# now lets dict vectorize the february trip data\n",
    "X_small_feb_dict = dv.transform(X_small_feb.to_dict(orient='records'))\n",
    "print(X_small_feb_dict.shape)  # Check the shape of the feature matrix to ensure it matches the expected output\n"
   ]
  },
  {
   "cell_type": "code",
   "execution_count": 31,
   "id": "6b192f93",
   "metadata": {},
   "outputs": [
    {
     "name": "stdout",
     "output_type": "stream",
     "text": [
      "RMSE for February trip data: 7.826250320836657\n"
     ]
    }
   ],
   "source": [
    "# now lets use the X_small_feb_dict to predict the duration of the february trip data using the model we trained on january trip data\n",
    "y_pred_feb = model.predict(X_small_feb_dict)  # Predict the target variable using the feature matrix\n",
    "# calculate rmse for february trip data\n",
    "from sklearn.metrics import mean_squared_error\n",
    "\n",
    "rmse_feb = np.sqrt(mean_squared_error(y_small_feb, y_pred_feb))  # Calculate the root mean squared error\n",
    "print(f\"RMSE for February trip data: {rmse_feb}\")  # Print the RMSE to check the output\n"
   ]
  }
 ],
 "metadata": {
  "kernelspec": {
   "display_name": "Python 3",
   "language": "python",
   "name": "python3"
  },
  "language_info": {
   "codemirror_mode": {
    "name": "ipython",
    "version": 3
   },
   "file_extension": ".py",
   "mimetype": "text/x-python",
   "name": "python",
   "nbconvert_exporter": "python",
   "pygments_lexer": "ipython3",
   "version": "3.12.6"
  }
 },
 "nbformat": 4,
 "nbformat_minor": 5
}
